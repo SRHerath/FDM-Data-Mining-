{
 "cells": [
  {
   "cell_type": "code",
   "execution_count": 1,
   "id": "6e6ba14e",
   "metadata": {},
   "outputs": [
    {
     "name": "stderr",
     "output_type": "stream",
     "text": [
      "C:\\Users\\Admin\\anaconda3\\lib\\site-packages\\art\\estimators\\certification\\__init__.py:13: UserWarning: PyTorch not found. Not importing DeepZ functionality\n",
      "  warnings.warn(\"PyTorch not found. Not importing DeepZ functionality\")\n"
     ]
    }
   ],
   "source": [
    "import pandas as pd\n",
    "import numpy as np\n",
    "from art.estimators.classification import SklearnClassifier\n",
    "from sklearn.model_selection import train_test_split\n",
    "from sklearn.ensemble import RandomForestClassifier\n",
    "from sklearn.ensemble import ExtraTreesClassifier\n",
    "# find accuracy, precision, recall:\n",
    "from sklearn.metrics import confusion_matrix,classification_report\n",
    "import matplotlib.pyplot as plt\n",
    "import pickle"
   ]
  },
  {
   "cell_type": "code",
   "execution_count": 2,
   "id": "2923d5e6",
   "metadata": {},
   "outputs": [
    {
     "data": {
      "text/html": [
       "<div>\n",
       "<style scoped>\n",
       "    .dataframe tbody tr th:only-of-type {\n",
       "        vertical-align: middle;\n",
       "    }\n",
       "\n",
       "    .dataframe tbody tr th {\n",
       "        vertical-align: top;\n",
       "    }\n",
       "\n",
       "    .dataframe thead th {\n",
       "        text-align: right;\n",
       "    }\n",
       "</style>\n",
       "<table border=\"1\" class=\"dataframe\">\n",
       "  <thead>\n",
       "    <tr style=\"text-align: right;\">\n",
       "      <th></th>\n",
       "      <th>Price</th>\n",
       "      <th>Area</th>\n",
       "      <th>City</th>\n",
       "      <th>No. of Bedrooms</th>\n",
       "      <th>Resale</th>\n",
       "      <th>SwimmingPool</th>\n",
       "      <th>ShoppingMall</th>\n",
       "      <th>24X7Security</th>\n",
       "      <th>PowerBackup</th>\n",
       "      <th>Hospital</th>\n",
       "      <th>AC</th>\n",
       "      <th>Furnished</th>\n",
       "    </tr>\n",
       "    <tr>\n",
       "      <th>PID</th>\n",
       "      <th></th>\n",
       "      <th></th>\n",
       "      <th></th>\n",
       "      <th></th>\n",
       "      <th></th>\n",
       "      <th></th>\n",
       "      <th></th>\n",
       "      <th></th>\n",
       "      <th></th>\n",
       "      <th></th>\n",
       "      <th></th>\n",
       "      <th></th>\n",
       "    </tr>\n",
       "  </thead>\n",
       "  <tbody>\n",
       "    <tr>\n",
       "      <th>855</th>\n",
       "      <td>3</td>\n",
       "      <td>1309</td>\n",
       "      <td>1</td>\n",
       "      <td>2</td>\n",
       "      <td>0</td>\n",
       "      <td>1</td>\n",
       "      <td>1</td>\n",
       "      <td>1</td>\n",
       "      <td>1</td>\n",
       "      <td>1</td>\n",
       "      <td>0</td>\n",
       "      <td>0</td>\n",
       "    </tr>\n",
       "    <tr>\n",
       "      <th>329</th>\n",
       "      <td>3</td>\n",
       "      <td>1335</td>\n",
       "      <td>1</td>\n",
       "      <td>2</td>\n",
       "      <td>0</td>\n",
       "      <td>0</td>\n",
       "      <td>0</td>\n",
       "      <td>0</td>\n",
       "      <td>1</td>\n",
       "      <td>0</td>\n",
       "      <td>0</td>\n",
       "      <td>0</td>\n",
       "    </tr>\n",
       "    <tr>\n",
       "      <th>6008</th>\n",
       "      <td>3</td>\n",
       "      <td>1812</td>\n",
       "      <td>5</td>\n",
       "      <td>3</td>\n",
       "      <td>1</td>\n",
       "      <td>5</td>\n",
       "      <td>5</td>\n",
       "      <td>5</td>\n",
       "      <td>5</td>\n",
       "      <td>5</td>\n",
       "      <td>5</td>\n",
       "      <td>5</td>\n",
       "    </tr>\n",
       "    <tr>\n",
       "      <th>6747</th>\n",
       "      <td>2</td>\n",
       "      <td>275</td>\n",
       "      <td>6</td>\n",
       "      <td>1</td>\n",
       "      <td>1</td>\n",
       "      <td>0</td>\n",
       "      <td>1</td>\n",
       "      <td>0</td>\n",
       "      <td>0</td>\n",
       "      <td>0</td>\n",
       "      <td>1</td>\n",
       "      <td>0</td>\n",
       "    </tr>\n",
       "    <tr>\n",
       "      <th>6647</th>\n",
       "      <td>1</td>\n",
       "      <td>650</td>\n",
       "      <td>6</td>\n",
       "      <td>1</td>\n",
       "      <td>1</td>\n",
       "      <td>1</td>\n",
       "      <td>0</td>\n",
       "      <td>0</td>\n",
       "      <td>0</td>\n",
       "      <td>0</td>\n",
       "      <td>0</td>\n",
       "      <td>0</td>\n",
       "    </tr>\n",
       "  </tbody>\n",
       "</table>\n",
       "</div>"
      ],
      "text/plain": [
       "      Price  Area  City  No. of Bedrooms  Resale  SwimmingPool  ShoppingMall  \\\n",
       "PID                                                                            \n",
       "855       3  1309     1                2       0             1             1   \n",
       "329       3  1335     1                2       0             0             0   \n",
       "6008      3  1812     5                3       1             5             5   \n",
       "6747      2   275     6                1       1             0             1   \n",
       "6647      1   650     6                1       1             1             0   \n",
       "\n",
       "      24X7Security  PowerBackup  Hospital  AC  Furnished  \n",
       "PID                                                       \n",
       "855              1            1         1   0          0  \n",
       "329              0            1         0   0          0  \n",
       "6008             5            5         5   5          5  \n",
       "6747             0            0         0   1          0  \n",
       "6647             0            0         0   0          0  "
      ]
     },
     "execution_count": 2,
     "metadata": {},
     "output_type": "execute_result"
    }
   ],
   "source": [
    "Df_dataset = pd.read_csv(\"Clean_land_data.csv\" , low_memory =True)\n",
    "Df_dataset.set_index('PID', inplace=True)\n",
    "Df_dataset.head()"
   ]
  },
  {
   "cell_type": "code",
   "execution_count": 3,
   "id": "cff6e424",
   "metadata": {},
   "outputs": [
    {
     "data": {
      "text/plain": [
       "PID\n",
       "855     3\n",
       "329     3\n",
       "6008    3\n",
       "6747    2\n",
       "6647    1\n",
       "       ..\n",
       "4765    4\n",
       "4842    2\n",
       "3649    1\n",
       "6930    3\n",
       "4826    1\n",
       "Name: Price, Length: 7740, dtype: int64"
      ]
     },
     "execution_count": 3,
     "metadata": {},
     "output_type": "execute_result"
    }
   ],
   "source": [
    "#independant variables \n",
    "variable_names = list(Df_dataset.columns[1:])\n",
    "X = Df_dataset[variable_names].values\n",
    "\n",
    "#target variable\n",
    "Y= Df_dataset['Price']\n",
    "Y"
   ]
  },
  {
   "cell_type": "code",
   "execution_count": 4,
   "id": "d4e16bdb",
   "metadata": {},
   "outputs": [],
   "source": [
    "# splitting the dataset\n",
    "X_train, X_test, y_train, y_test = train_test_split(X, Y, test_size=0.3, random_state=42)"
   ]
  },
  {
   "cell_type": "code",
   "execution_count": 5,
   "id": "f99c8bed",
   "metadata": {},
   "outputs": [
    {
     "name": "stdout",
     "output_type": "stream",
     "text": [
      "Training Accuracy is:  0.9077150239940938\n",
      "Testing Accuracy is:  0.6856158484065461\n"
     ]
    }
   ],
   "source": [
    "#random forest classifier\n",
    "rf_model=RandomForestClassifier(n_estimators=100, criterion='gini', max_depth=None, \n",
    "                                              min_samples_split=2, min_samples_leaf=1, min_weight_fraction_leaf=0.0, max_features='sqrt', max_leaf_nodes=None, min_impurity_decrease=0.0,  n_jobs=None, random_state=None,  \n",
    "                                              warm_start=False, class_weight=None,  max_samples=None)\n",
    "\n",
    "rf_model.fit(X=X_train, y=y_train)\n",
    "\n",
    "print(\"Training Accuracy is: \", rf_model.score(X_train, y_train))\n",
    "print(\"Testing Accuracy is: \", rf_model.score(X_test, y_test))"
   ]
  },
  {
   "cell_type": "code",
   "execution_count": 6,
   "id": "d28e3983",
   "metadata": {},
   "outputs": [
    {
     "name": "stdout",
     "output_type": "stream",
     "text": [
      "              precision    recall  f1-score   support\n",
      "\n",
      "           1       0.71      0.66      0.68       602\n",
      "           2       0.61      0.61      0.61       565\n",
      "           3       0.62      0.66      0.63       570\n",
      "           4       0.82      0.81      0.81       585\n",
      "\n",
      "    accuracy                           0.69      2322\n",
      "   macro avg       0.69      0.68      0.69      2322\n",
      "weighted avg       0.69      0.69      0.69      2322\n",
      "\n"
     ]
    }
   ],
   "source": [
    "y_predict=rf_model.predict(X_test)\n",
    "\n",
    "y_predict = y_predict.round(0)\n",
    "y_predict.astype(\"int64\")\n",
    "\n",
    "print(classification_report(y_predict,y_test))"
   ]
  },
  {
   "cell_type": "code",
   "execution_count": 7,
   "id": "aa30f078",
   "metadata": {},
   "outputs": [],
   "source": [
    "#saving the data to pickle file\n",
    "pickle_out = open(\"rfc_classifier.pkl\",\"wb\")\n",
    "pickle.dump(rf_model, pickle_out)\n",
    "pickle_out.close()"
   ]
  },
  {
   "cell_type": "code",
   "execution_count": null,
   "id": "353b3e46",
   "metadata": {},
   "outputs": [],
   "source": []
  }
 ],
 "metadata": {
  "kernelspec": {
   "display_name": "Python 3 (ipykernel)",
   "language": "python",
   "name": "python3"
  },
  "language_info": {
   "codemirror_mode": {
    "name": "ipython",
    "version": 3
   },
   "file_extension": ".py",
   "mimetype": "text/x-python",
   "name": "python",
   "nbconvert_exporter": "python",
   "pygments_lexer": "ipython3",
   "version": "3.9.12"
  }
 },
 "nbformat": 4,
 "nbformat_minor": 5
}

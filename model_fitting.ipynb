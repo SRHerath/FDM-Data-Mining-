{
 "cells": [
  {
   "cell_type": "code",
   "execution_count": 1,
   "id": "388064ee",
   "metadata": {},
   "outputs": [
    {
     "name": "stderr",
     "output_type": "stream",
     "text": [
      "C:\\Users\\Admin\\anaconda3\\lib\\site-packages\\art\\estimators\\certification\\__init__.py:13: UserWarning: PyTorch not found. Not importing DeepZ functionality\n",
      "  warnings.warn(\"PyTorch not found. Not importing DeepZ functionality\")\n"
     ]
    }
   ],
   "source": [
    "import pandas as pd\n",
    "import numpy as np\n",
    "from art.estimators.classification import SklearnClassifier\n",
    "from sklearn.model_selection import train_test_split\n",
    "from sklearn.tree import DecisionTreeClassifier\n",
    "from sklearn.ensemble import HistGradientBoostingClassifier\n",
    "from sklearn.ensemble import RandomForestClassifier \n",
    "from sklearn.ensemble import ExtraTreesClassifier\n",
    "from sklearn.svm import SVC\n",
    "from sklearn.discriminant_analysis import LinearDiscriminantAnalysis\n",
    "import joblib\n",
    "# find accuracy, precision, recall:\n",
    "from sklearn.metrics import confusion_matrix,classification_report\n",
    "import matplotlib.pyplot as plt"
   ]
  },
  {
   "cell_type": "code",
   "execution_count": 2,
   "id": "9be5de5a",
   "metadata": {},
   "outputs": [
    {
     "data": {
      "text/html": [
       "<div>\n",
       "<style scoped>\n",
       "    .dataframe tbody tr th:only-of-type {\n",
       "        vertical-align: middle;\n",
       "    }\n",
       "\n",
       "    .dataframe tbody tr th {\n",
       "        vertical-align: top;\n",
       "    }\n",
       "\n",
       "    .dataframe thead th {\n",
       "        text-align: right;\n",
       "    }\n",
       "</style>\n",
       "<table border=\"1\" class=\"dataframe\">\n",
       "  <thead>\n",
       "    <tr style=\"text-align: right;\">\n",
       "      <th></th>\n",
       "      <th>Price</th>\n",
       "      <th>Area</th>\n",
       "      <th>City</th>\n",
       "      <th>No. of Bedrooms</th>\n",
       "      <th>Resale</th>\n",
       "      <th>SwimmingPool</th>\n",
       "      <th>ShoppingMall</th>\n",
       "      <th>24X7Security</th>\n",
       "      <th>PowerBackup</th>\n",
       "      <th>Hospital</th>\n",
       "      <th>AC</th>\n",
       "      <th>Furnished</th>\n",
       "    </tr>\n",
       "    <tr>\n",
       "      <th>PID</th>\n",
       "      <th></th>\n",
       "      <th></th>\n",
       "      <th></th>\n",
       "      <th></th>\n",
       "      <th></th>\n",
       "      <th></th>\n",
       "      <th></th>\n",
       "      <th></th>\n",
       "      <th></th>\n",
       "      <th></th>\n",
       "      <th></th>\n",
       "      <th></th>\n",
       "    </tr>\n",
       "  </thead>\n",
       "  <tbody>\n",
       "    <tr>\n",
       "      <th>855</th>\n",
       "      <td>3</td>\n",
       "      <td>1309</td>\n",
       "      <td>1</td>\n",
       "      <td>2</td>\n",
       "      <td>0</td>\n",
       "      <td>1</td>\n",
       "      <td>1</td>\n",
       "      <td>1</td>\n",
       "      <td>1</td>\n",
       "      <td>1</td>\n",
       "      <td>0</td>\n",
       "      <td>0</td>\n",
       "    </tr>\n",
       "    <tr>\n",
       "      <th>329</th>\n",
       "      <td>3</td>\n",
       "      <td>1335</td>\n",
       "      <td>1</td>\n",
       "      <td>2</td>\n",
       "      <td>0</td>\n",
       "      <td>0</td>\n",
       "      <td>0</td>\n",
       "      <td>0</td>\n",
       "      <td>1</td>\n",
       "      <td>0</td>\n",
       "      <td>0</td>\n",
       "      <td>0</td>\n",
       "    </tr>\n",
       "    <tr>\n",
       "      <th>6008</th>\n",
       "      <td>3</td>\n",
       "      <td>1812</td>\n",
       "      <td>5</td>\n",
       "      <td>3</td>\n",
       "      <td>1</td>\n",
       "      <td>5</td>\n",
       "      <td>5</td>\n",
       "      <td>5</td>\n",
       "      <td>5</td>\n",
       "      <td>5</td>\n",
       "      <td>5</td>\n",
       "      <td>5</td>\n",
       "    </tr>\n",
       "    <tr>\n",
       "      <th>6747</th>\n",
       "      <td>2</td>\n",
       "      <td>275</td>\n",
       "      <td>6</td>\n",
       "      <td>1</td>\n",
       "      <td>1</td>\n",
       "      <td>0</td>\n",
       "      <td>1</td>\n",
       "      <td>0</td>\n",
       "      <td>0</td>\n",
       "      <td>0</td>\n",
       "      <td>1</td>\n",
       "      <td>0</td>\n",
       "    </tr>\n",
       "    <tr>\n",
       "      <th>6647</th>\n",
       "      <td>1</td>\n",
       "      <td>650</td>\n",
       "      <td>6</td>\n",
       "      <td>1</td>\n",
       "      <td>1</td>\n",
       "      <td>1</td>\n",
       "      <td>0</td>\n",
       "      <td>0</td>\n",
       "      <td>0</td>\n",
       "      <td>0</td>\n",
       "      <td>0</td>\n",
       "      <td>0</td>\n",
       "    </tr>\n",
       "  </tbody>\n",
       "</table>\n",
       "</div>"
      ],
      "text/plain": [
       "      Price  Area  City  No. of Bedrooms  Resale  SwimmingPool  ShoppingMall  \\\n",
       "PID                                                                            \n",
       "855       3  1309     1                2       0             1             1   \n",
       "329       3  1335     1                2       0             0             0   \n",
       "6008      3  1812     5                3       1             5             5   \n",
       "6747      2   275     6                1       1             0             1   \n",
       "6647      1   650     6                1       1             1             0   \n",
       "\n",
       "      24X7Security  PowerBackup  Hospital  AC  Furnished  \n",
       "PID                                                       \n",
       "855              1            1         1   0          0  \n",
       "329              0            1         0   0          0  \n",
       "6008             5            5         5   5          5  \n",
       "6747             0            0         0   1          0  \n",
       "6647             0            0         0   0          0  "
      ]
     },
     "execution_count": 2,
     "metadata": {},
     "output_type": "execute_result"
    }
   ],
   "source": [
    "Df_dataset = pd.read_csv(\"Clean_land_data.csv\" , low_memory =True)\n",
    "Df_dataset.set_index('PID', inplace=True)\n",
    "Df_dataset.head()"
   ]
  },
  {
   "cell_type": "code",
   "execution_count": 3,
   "id": "3ca7f206",
   "metadata": {},
   "outputs": [
    {
     "data": {
      "text/plain": [
       "PID\n",
       "855     3\n",
       "329     3\n",
       "6008    3\n",
       "6747    2\n",
       "6647    1\n",
       "       ..\n",
       "4765    4\n",
       "4842    2\n",
       "3649    1\n",
       "6930    3\n",
       "4826    1\n",
       "Name: Price, Length: 7740, dtype: int64"
      ]
     },
     "execution_count": 3,
     "metadata": {},
     "output_type": "execute_result"
    }
   ],
   "source": [
    "#independant variables \n",
    "variable_names = list(Df_dataset.columns[1:])\n",
    "X = Df_dataset[variable_names].values\n",
    "\n",
    "#target variable\n",
    "Y= Df_dataset['Price']\n",
    "Y"
   ]
  },
  {
   "cell_type": "code",
   "execution_count": 4,
   "id": "1c0db877",
   "metadata": {},
   "outputs": [],
   "source": [
    "# splitting the dataset\n",
    "X_train, X_test, y_train, y_test = train_test_split(X, Y, test_size=0.3, random_state=42)"
   ]
  },
  {
   "cell_type": "code",
   "execution_count": 5,
   "id": "a12b8014",
   "metadata": {},
   "outputs": [
    {
     "name": "stdout",
     "output_type": "stream",
     "text": [
      "Training Accuracy is:  0.6552233296419343\n",
      "Testing Accuracy is:  0.6326442721791559\n"
     ]
    }
   ],
   "source": [
    "#decision tree model fitting\n",
    "dt_model = DecisionTreeClassifier(criterion='gini', splitter='best', max_depth=None, min_samples_split=2, \n",
    "                               min_samples_leaf=1, min_weight_fraction_leaf=0.0, max_features=None, \n",
    "                               random_state=None, max_leaf_nodes=50, class_weight=None) \n",
    "\n",
    "dt_model.fit(X=X_train, y=y_train)\n",
    "\n",
    "#accuracy testing\n",
    "print(\"Training Accuracy is: \", dt_model.score(X_train, y_train))\n",
    "print(\"Testing Accuracy is: \", dt_model.score(X_test, y_test))\n"
   ]
  },
  {
   "cell_type": "code",
   "execution_count": 6,
   "id": "71dc3957",
   "metadata": {},
   "outputs": [
    {
     "name": "stdout",
     "output_type": "stream",
     "text": [
      "              precision    recall  f1-score   support\n",
      "\n",
      "           1       0.81      0.55      0.66       820\n",
      "           2       0.43      0.65      0.52       377\n",
      "           3       0.57      0.57      0.57       600\n",
      "           4       0.73      0.81      0.77       525\n",
      "\n",
      "    accuracy                           0.63      2322\n",
      "   macro avg       0.63      0.65      0.63      2322\n",
      "weighted avg       0.67      0.63      0.64      2322\n",
      "\n"
     ]
    }
   ],
   "source": [
    "y_predict=dt_model.predict(X_test)\n",
    "\n",
    "y_predict = y_predict.round(0)\n",
    "y_predict.astype(\"int64\")\n",
    "\n",
    "print(classification_report(y_predict,y_test))"
   ]
  },
  {
   "cell_type": "code",
   "execution_count": 7,
   "id": "51b1eb92",
   "metadata": {},
   "outputs": [
    {
     "name": "stdout",
     "output_type": "stream",
     "text": [
      "Training Accuracy is:  0.9077150239940938\n",
      "Testing Accuracy is:  0.6856158484065461\n"
     ]
    }
   ],
   "source": [
    "#random forest classifier\n",
    "rf_model=RandomForestClassifier(n_estimators=100, criterion='gini', max_depth=None, \n",
    "                                              min_samples_split=2, min_samples_leaf=1, min_weight_fraction_leaf=0.0, max_features='sqrt', max_leaf_nodes=None, min_impurity_decrease=0.0,  n_jobs=None, random_state=None,  \n",
    "                                              warm_start=False, class_weight=None,  max_samples=None)\n",
    "\n",
    "rf_model.fit(X=X_train, y=y_train)\n",
    "\n",
    "print(\"Training Accuracy is: \", rf_model.score(X_train, y_train))\n",
    "print(\"Testing Accuracy is: \", rf_model.score(X_test, y_test))"
   ]
  },
  {
   "cell_type": "code",
   "execution_count": 8,
   "id": "53f06eb1",
   "metadata": {},
   "outputs": [
    {
     "name": "stdout",
     "output_type": "stream",
     "text": [
      "              precision    recall  f1-score   support\n",
      "\n",
      "           1       0.72      0.67      0.69       600\n",
      "           2       0.61      0.61      0.61       563\n",
      "           3       0.60      0.66      0.63       557\n",
      "           4       0.82      0.80      0.81       602\n",
      "\n",
      "    accuracy                           0.69      2322\n",
      "   macro avg       0.69      0.68      0.68      2322\n",
      "weighted avg       0.69      0.69      0.69      2322\n",
      "\n"
     ]
    }
   ],
   "source": [
    "y_predict=rf_model.predict(X_test)\n",
    "\n",
    "y_predict = y_predict.round(0)\n",
    "y_predict.astype(\"int64\")\n",
    "\n",
    "print(classification_report(y_predict,y_test))"
   ]
  },
  {
   "cell_type": "code",
   "execution_count": 9,
   "id": "7ad3e6e0",
   "metadata": {},
   "outputs": [
    {
     "name": "stdout",
     "output_type": "stream",
     "text": [
      "Training Accuracy is:  0.5426356589147286\n",
      "Testing Accuracy is:  0.532730404823428\n"
     ]
    }
   ],
   "source": [
    "lda_model = LinearDiscriminantAnalysis(solver='svd', shrinkage=None, priors=None)\n",
    "\n",
    "lda_model.fit(X=X_train, y=y_train)\n",
    "\n",
    "print(\"Training Accuracy is: \", lda_model.score(X_train, y_train))\n",
    "print(\"Testing Accuracy is: \", lda_model.score(X_test, y_test))"
   ]
  },
  {
   "cell_type": "code",
   "execution_count": 10,
   "id": "9708f47f",
   "metadata": {},
   "outputs": [
    {
     "name": "stdout",
     "output_type": "stream",
     "text": [
      "              precision    recall  f1-score   support\n",
      "\n",
      "           1       0.66      0.48      0.56       773\n",
      "           2       0.41      0.49      0.45       472\n",
      "           3       0.39      0.49      0.43       482\n",
      "           4       0.68      0.67      0.67       595\n",
      "\n",
      "    accuracy                           0.53      2322\n",
      "   macro avg       0.53      0.53      0.53      2322\n",
      "weighted avg       0.56      0.53      0.54      2322\n",
      "\n"
     ]
    }
   ],
   "source": [
    "y_predict=lda_model.predict(X_test)\n",
    "\n",
    "y_predict = y_predict.round(0)\n",
    "y_predict.astype(\"int64\")\n",
    "\n",
    "print(classification_report(y_predict,y_test))"
   ]
  },
  {
   "cell_type": "code",
   "execution_count": 11,
   "id": "3743ab05",
   "metadata": {},
   "outputs": [
    {
     "name": "stdout",
     "output_type": "stream",
     "text": [
      "Training Accuracy is:  0.9077150239940938\n",
      "Testing Accuracy is:  0.6813092161929372\n"
     ]
    }
   ],
   "source": [
    "etc_model = ExtraTreesClassifier(random_state=2, n_estimators=1000 )\n",
    "etc_model .fit(X=X_train, y=y_train)\n",
    "\n",
    "print(\"Training Accuracy is: \", etc_model.score(X_train, y_train))\n",
    "print(\"Testing Accuracy is: \", etc_model.score(X_test, y_test))"
   ]
  },
  {
   "cell_type": "code",
   "execution_count": 12,
   "id": "f3dc32f0",
   "metadata": {},
   "outputs": [
    {
     "name": "stdout",
     "output_type": "stream",
     "text": [
      "              precision    recall  f1-score   support\n",
      "\n",
      "           1       0.74      0.65      0.69       637\n",
      "           2       0.59      0.62      0.61       538\n",
      "           3       0.61      0.65      0.63       568\n",
      "           4       0.79      0.80      0.80       579\n",
      "\n",
      "    accuracy                           0.68      2322\n",
      "   macro avg       0.68      0.68      0.68      2322\n",
      "weighted avg       0.69      0.68      0.68      2322\n",
      "\n"
     ]
    }
   ],
   "source": [
    "y_predict=etc_model.predict(X_test)\n",
    "\n",
    "y_predict = y_predict.round(0)\n",
    "y_predict.astype(\"int64\")\n",
    "\n",
    "print(classification_report(y_predict,y_test))"
   ]
  },
  {
   "cell_type": "code",
   "execution_count": 13,
   "id": "1ed42d0e",
   "metadata": {},
   "outputs": [
    {
     "data": {
      "text/plain": [
       "array([3], dtype=int64)"
      ]
     },
     "execution_count": 13,
     "metadata": {},
     "output_type": "execute_result"
    }
   ],
   "source": [
    "#testing if our output is accurate\n",
    "joblib.dump(rf_model,'model_joblib')\n",
    "rf_model=joblib.load('model_joblib')\n",
    "rf_model.predict([[1670,1,3,0,1,0,1,1,0,0,1]])"
   ]
  },
  {
   "cell_type": "markdown",
   "id": "5d4c1047",
   "metadata": {},
   "source": [
    "# #Regression model fitting"
   ]
  },
  {
   "cell_type": "code",
   "execution_count": 14,
   "id": "acd3edba",
   "metadata": {},
   "outputs": [
    {
     "name": "stdout",
     "output_type": "stream",
     "text": [
      "Training Accuracy is:  0.6495774777187611\n",
      "Testing Accuracy is:  0.6119525029928048\n"
     ]
    }
   ],
   "source": [
    "from sklearn.ensemble import GradientBoostingRegressor\n",
    "\n",
    "gbr = GradientBoostingRegressor()\n",
    "gbr.fit(X=X_train, y=y_train)\n",
    "\n",
    "print(\"Training Accuracy is: \", gbr.score(X_train, y_train))\n",
    "print(\"Testing Accuracy is: \", gbr.score(X_test, y_test))"
   ]
  },
  {
   "cell_type": "code",
   "execution_count": 15,
   "id": "44d5bc0b",
   "metadata": {},
   "outputs": [
    {
     "name": "stdout",
     "output_type": "stream",
     "text": [
      "              precision    recall  f1-score   support\n",
      "\n",
      "           1       0.74      0.65      0.69       637\n",
      "           2       0.59      0.62      0.61       538\n",
      "           3       0.61      0.65      0.63       568\n",
      "           4       0.79      0.80      0.80       579\n",
      "\n",
      "    accuracy                           0.68      2322\n",
      "   macro avg       0.68      0.68      0.68      2322\n",
      "weighted avg       0.69      0.68      0.68      2322\n",
      "\n"
     ]
    }
   ],
   "source": [
    "lda_modely_predict=gbr.predict(X_test)\n",
    "\n",
    "y_predict = y_predict.round(0)\n",
    "y_predict.astype(\"int64\")\n",
    "\n",
    "print(classification_report(y_predict,y_test))"
   ]
  },
  {
   "cell_type": "code",
   "execution_count": 16,
   "id": "830ddc26",
   "metadata": {},
   "outputs": [
    {
     "name": "stdout",
     "output_type": "stream",
     "text": [
      "Training Accuracy is:  0.8738070495884154\n",
      "Testing Accuracy is:  0.6226553468694491\n"
     ]
    }
   ],
   "source": [
    "from sklearn.ensemble import RandomForestRegressor\n",
    "RForest=RandomForestRegressor(n_estimators=500,random_state=329,min_samples_leaf=.0001)\n",
    "\n",
    "RForest.fit(X=X_train, y=y_train)\n",
    "\n",
    "print(\"Training Accuracy is: \", RForest.score(X_train, y_train))\n",
    "print(\"Testing Accuracy is: \", RForest.score(X_test, y_test))"
   ]
  },
  {
   "cell_type": "code",
   "execution_count": 17,
   "id": "aad347e6",
   "metadata": {},
   "outputs": [
    {
     "name": "stdout",
     "output_type": "stream",
     "text": [
      "              precision    recall  f1-score   support\n",
      "\n",
      "           1       0.74      0.65      0.69       637\n",
      "           2       0.59      0.62      0.61       538\n",
      "           3       0.61      0.65      0.63       568\n",
      "           4       0.79      0.80      0.80       579\n",
      "\n",
      "    accuracy                           0.68      2322\n",
      "   macro avg       0.68      0.68      0.68      2322\n",
      "weighted avg       0.69      0.68      0.68      2322\n",
      "\n"
     ]
    }
   ],
   "source": [
    "lda_modely_predict=RForest.predict(X_test)\n",
    "\n",
    "y_predict = y_predict.round(0)\n",
    "y_predict.astype(\"int64\")\n",
    "\n",
    "print(classification_report(y_predict,y_test))"
   ]
  },
  {
   "cell_type": "code",
   "execution_count": 18,
   "id": "29c64c28",
   "metadata": {},
   "outputs": [
    {
     "name": "stdout",
     "output_type": "stream",
     "text": [
      "Training Accuracy is:  0.903094529729698\n",
      "Testing Accuracy is:  0.480309142250786\n"
     ]
    }
   ],
   "source": [
    "from sklearn.tree import DecisionTreeRegressor\n",
    "\n",
    "DTree=DecisionTreeRegressor(min_samples_leaf=.0001)\n",
    "DTree.fit(X=X_train, y=y_train)\n",
    "\n",
    "print(\"Training Accuracy is: \", DTree.score(X_train, y_train))\n",
    "print(\"Testing Accuracy is: \", DTree.score(X_test, y_test))"
   ]
  },
  {
   "cell_type": "code",
   "execution_count": 19,
   "id": "6d8d4216",
   "metadata": {},
   "outputs": [
    {
     "name": "stdout",
     "output_type": "stream",
     "text": [
      "              precision    recall  f1-score   support\n",
      "\n",
      "           1       0.74      0.65      0.69       637\n",
      "           2       0.59      0.62      0.61       538\n",
      "           3       0.61      0.65      0.63       568\n",
      "           4       0.79      0.80      0.80       579\n",
      "\n",
      "    accuracy                           0.68      2322\n",
      "   macro avg       0.68      0.68      0.68      2322\n",
      "weighted avg       0.69      0.68      0.68      2322\n",
      "\n"
     ]
    }
   ],
   "source": [
    "lda_modely_predict=DTree.predict(X_test)\n",
    "\n",
    "y_pred = y_predict.round(0)\n",
    "y_predict.astype(\"int64\")\n",
    "\n",
    "print(classification_report(y_predict,y_test))"
   ]
  },
  {
   "cell_type": "code",
   "execution_count": 21,
   "id": "a5e8dcfd",
   "metadata": {},
   "outputs": [],
   "source": [
    "import seaborn as sns"
   ]
  },
  {
   "cell_type": "code",
   "execution_count": 22,
   "id": "4d454ad2",
   "metadata": {},
   "outputs": [
    {
     "data": {
      "image/png": "[encoded data removed]",
      "text/plain": [
       "<Figure size 432x288 with 2 Axes>"
      ]
     },
     "metadata": {
      "needs_background": "light"
     },
     "output_type": "display_data"
    }
   ],
   "source": [
    "sns.heatmap(confusion_matrix(y_test,y_pred), annot=True, fmt=\"g\")\n",
    "plt.xlabel(\"Predicted\")\n",
    "plt.ylabel(\"Actual\")\n",
    "plt.show()"
   ]
  },
  {
   "cell_type": "code",
   "execution_count": null,
   "id": "316d3996",
   "metadata": {},
   "outputs": [],
   "source": []
  }
 ],
 "metadata": {
  "kernelspec": {
   "display_name": "Python 3 (ipykernel)",
   "language": "python",
   "name": "python3"
  },
  "language_info": {
   "codemirror_mode": {
    "name": "ipython",
    "version": 3
   },
   "file_extension": ".py",
   "mimetype": "text/x-python",
   "name": "python",
   "nbconvert_exporter": "python",
   "pygments_lexer": "ipython3",
   "version": "3.9.12"
  }
 },
 "nbformat": 4,
 "nbformat_minor": 5
}
